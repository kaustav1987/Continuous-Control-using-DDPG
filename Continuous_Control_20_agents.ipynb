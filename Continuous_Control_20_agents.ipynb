{
 "cells": [
  {
   "cell_type": "markdown",
   "metadata": {},
   "source": [
    "# Continuous Control\n",
    "\n",
    "---\n",
    "\n",
    "In this notebook, you will learn how to use the Unity ML-Agents environment for the second project of the [Deep Reinforcement Learning Nanodegree](https://www.udacity.com/course/deep-reinforcement-learning-nanodegree--nd893) program.\n",
    "\n",
    "### 1. Start the Environment\n",
    "\n",
    "We begin by importing the necessary packages.  If the code cell below returns an error, please revisit the project instructions to double-check that you have installed [Unity ML-Agents](https://github.com/Unity-Technologies/ml-agents/blob/master/docs/Installation.md) and [NumPy](http://www.numpy.org/)."
   ]
  },
  {
   "cell_type": "code",
   "execution_count": 1,
   "metadata": {},
   "outputs": [],
   "source": [
    "from unityagents import UnityEnvironment\n",
    "import numpy as np"
   ]
  },
  {
   "cell_type": "markdown",
   "metadata": {},
   "source": [
    "Next, we will start the environment!  **_Before running the code cell below_**, change the `file_name` parameter to match the location of the Unity environment that you downloaded.\n",
    "\n",
    "- **Mac**: `\"path/to/Reacher.app\"`\n",
    "- **Windows** (x86): `\"path/to/Reacher_Windows_x86/Reacher.exe\"`\n",
    "- **Windows** (x86_64): `\"path/to/Reacher_Windows_x86_64/Reacher.exe\"`\n",
    "- **Linux** (x86): `\"path/to/Reacher_Linux/Reacher.x86\"`\n",
    "- **Linux** (x86_64): `\"path/to/Reacher_Linux/Reacher.x86_64\"`\n",
    "- **Linux** (x86, headless): `\"path/to/Reacher_Linux_NoVis/Reacher.x86\"`\n",
    "- **Linux** (x86_64, headless): `\"path/to/Reacher_Linux_NoVis/Reacher.x86_64\"`\n",
    "\n",
    "For instance, if you are using a Mac, then you downloaded `Reacher.app`.  If this file is in the same folder as the notebook, then the line below should appear as follows:\n",
    "```\n",
    "env = UnityEnvironment(file_name=\"Reacher.app\")\n",
    "```"
   ]
  },
  {
   "cell_type": "code",
   "execution_count": 2,
   "metadata": {},
   "outputs": [
    {
     "name": "stderr",
     "output_type": "stream",
     "text": [
      "INFO:unityagents:\n",
      "'Academy' started successfully!\n",
      "Unity Academy name: Academy\n",
      "        Number of Brains: 1\n",
      "        Number of External Brains : 1\n",
      "        Lesson number : 0\n",
      "        Reset Parameters :\n",
      "\t\tgoal_speed -> 1.0\n",
      "\t\tgoal_size -> 5.0\n",
      "Unity brain name: ReacherBrain\n",
      "        Number of Visual Observations (per agent): 0\n",
      "        Vector Observation space type: continuous\n",
      "        Vector Observation space size (per agent): 33\n",
      "        Number of stacked Vector Observation: 1\n",
      "        Vector Action space type: continuous\n",
      "        Vector Action space size (per agent): 4\n",
      "        Vector Action descriptions: , , , \n"
     ]
    }
   ],
   "source": [
    "env = UnityEnvironment(file_name='./Reacher.exe')"
   ]
  },
  {
   "cell_type": "markdown",
   "metadata": {},
   "source": [
    "Environments contain **_brains_** which are responsible for deciding the actions of their associated agents. Here we check for the first brain available, and set it as the default brain we will be controlling from Python."
   ]
  },
  {
   "cell_type": "code",
   "execution_count": 3,
   "metadata": {},
   "outputs": [],
   "source": [
    "# get the default brain\n",
    "brain_name = env.brain_names[0]\n",
    "brain = env.brains[brain_name]"
   ]
  },
  {
   "cell_type": "markdown",
   "metadata": {},
   "source": [
    "### 2. Examine the State and Action Spaces\n",
    "\n",
    "In this environment, a double-jointed arm can move to target locations. A reward of `+0.1` is provided for each step that the agent's hand is in the goal location. Thus, the goal of your agent is to maintain its position at the target location for as many time steps as possible.\n",
    "\n",
    "The observation space consists of `33` variables corresponding to position, rotation, velocity, and angular velocities of the arm.  Each action is a vector with four numbers, corresponding to torque applicable to two joints.  Every entry in the action vector must be a number between `-1` and `1`.\n",
    "\n",
    "Run the code cell below to print some information about the environment."
   ]
  },
  {
   "cell_type": "code",
   "execution_count": 4,
   "metadata": {},
   "outputs": [
    {
     "name": "stdout",
     "output_type": "stream",
     "text": [
      "Number of agents: 20\n",
      "Size of each action: 4\n",
      "There are 20 agents. Each observes a state with length: 33\n",
      "The state for the first agent looks like: [ 0.00000000e+00 -4.00000000e+00  0.00000000e+00  1.00000000e+00\n",
      " -0.00000000e+00 -0.00000000e+00 -4.37113883e-08  0.00000000e+00\n",
      "  0.00000000e+00  0.00000000e+00  0.00000000e+00  0.00000000e+00\n",
      "  0.00000000e+00  0.00000000e+00 -1.00000000e+01  0.00000000e+00\n",
      "  1.00000000e+00 -0.00000000e+00 -0.00000000e+00 -4.37113883e-08\n",
      "  0.00000000e+00  0.00000000e+00  0.00000000e+00  0.00000000e+00\n",
      "  0.00000000e+00  0.00000000e+00  5.75471878e+00 -1.00000000e+00\n",
      "  5.55726624e+00  0.00000000e+00  1.00000000e+00  0.00000000e+00\n",
      " -1.68164849e-01]\n"
     ]
    }
   ],
   "source": [
    "# reset the environment\n",
    "env_info = env.reset(train_mode=True)[brain_name]\n",
    "\n",
    "# number of agents\n",
    "num_agents = len(env_info.agents)\n",
    "print('Number of agents:', num_agents)\n",
    "\n",
    "# size of each action\n",
    "action_size = brain.vector_action_space_size\n",
    "print('Size of each action:', action_size)\n",
    "\n",
    "# examine the state space \n",
    "states = env_info.vector_observations\n",
    "state_size = states.shape[1]\n",
    "print('There are {} agents. Each observes a state with length: {}'.format(states.shape[0], state_size))\n",
    "print('The state for the first agent looks like:', states[0])"
   ]
  },
  {
   "cell_type": "markdown",
   "metadata": {},
   "source": [
    "### 3. Take Random Actions in the Environment\n",
    "\n",
    "In the next code cell, you will learn how to use the Python API to control the agent and receive feedback from the environment.\n",
    "\n",
    "Once this cell is executed, you will watch the agent's performance, if it selects an action at random with each time step.  A window should pop up that allows you to observe the agent, as it moves through the environment.  \n",
    "\n",
    "Of course, as part of the project, you'll have to change the code so that the agent is able to use its experience to gradually choose better actions when interacting with the environment!"
   ]
  },
  {
   "cell_type": "code",
   "execution_count": null,
   "metadata": {},
   "outputs": [],
   "source": []
  },
  {
   "cell_type": "code",
   "execution_count": 5,
   "metadata": {},
   "outputs": [
    {
     "name": "stdout",
     "output_type": "stream",
     "text": [
      "Total score (averaged over agents) this episode: 0.0064999998547136785\n"
     ]
    }
   ],
   "source": [
    "env_info = env.reset(train_mode=False)[brain_name]     # reset the environment    \n",
    "states = env_info.vector_observations                  # get the current state (for each agent)\n",
    "scores = np.zeros(num_agents)                          # initialize the score (for each agent)\n",
    "count=0\n",
    "while True:\n",
    "    actions = np.random.randn(num_agents, action_size) # select an action (for each agent)\n",
    "    actions = np.clip(actions, -1, 1)                  # all actions between -1 and 1\n",
    "    #print(type(actions))\n",
    "    #print(actions.shape)\n",
    "    env_info = env.step(actions)[brain_name]           # send all actions to tne environment\n",
    "    next_states = env_info.vector_observations         # get next state (for each agent)\n",
    "    rewards = env_info.rewards                         # get reward (for each agent)\n",
    "    dones = env_info.local_done                        # see if episode finished\n",
    "    scores += env_info.rewards                         # update the score (for each agent)\n",
    "    states = next_states                               # roll over states to next time step\n",
    "    #print(dones)\n",
    "    if np.any(dones):                                  # exit loop if episode finished\n",
    "        break\n",
    "    count+=1\n",
    "    if count ==100:\n",
    "        break\n",
    "    \n",
    "print('Total score (averaged over agents) this episode: {}'.format(np.mean(scores)))"
   ]
  },
  {
   "cell_type": "markdown",
   "metadata": {},
   "source": [
    "When finished, you can close the environment."
   ]
  },
  {
   "cell_type": "code",
   "execution_count": 6,
   "metadata": {},
   "outputs": [],
   "source": [
    "#env.close()"
   ]
  },
  {
   "cell_type": "markdown",
   "metadata": {},
   "source": [
    "### 4. It's Your Turn!\n",
    "\n",
    "Now it's your turn to train your own agent to solve the environment!  When training the environment, set `train_mode=True`, so that the line for resetting the environment looks like the following:\n",
    "```python\n",
    "env_info = env.reset(train_mode=True)[brain_name]\n",
    "```"
   ]
  },
  {
   "cell_type": "code",
   "execution_count": 7,
   "metadata": {},
   "outputs": [],
   "source": [
    "import torch\n",
    "import copy\n",
    "import torch.nn as nn\n",
    "from torch.nn import functional as F\n",
    "import torch.optim as optim\n",
    "from collections import namedtuple, deque\n",
    "import numpy as np\n",
    "import random"
   ]
  },
  {
   "cell_type": "code",
   "execution_count": 8,
   "metadata": {},
   "outputs": [],
   "source": [
    "## Hyperparameters\n",
    "\n",
    "BUFFER_SIZE = int(1e5)  ##Total memory length\n",
    "BATCH_SIZE = 128        ## minibatch size\n",
    "GAMMA = 0.99            ## discount factor\n",
    "TAU = 1e-3              ## for soft update of target parameters\n",
    "LR_ACTOR = 1e-4         ## Learning Rate for Actor\n",
    "LR_CRITIC = 1e-4        ## Learning Rate for Critic\n",
    "WEIGHT_DECAY=0          ## Weight Decay\n",
    "\n",
    "device = torch.device(\"cuda:0\" if  torch.cuda.is_available() else 'cpu')"
   ]
  },
  {
   "cell_type": "code",
   "execution_count": 9,
   "metadata": {},
   "outputs": [],
   "source": [
    "## Actor Critic Models Definations"
   ]
  },
  {
   "cell_type": "code",
   "execution_count": 10,
   "metadata": {},
   "outputs": [],
   "source": [
    "## for Uniform initialization of model layers\n",
    "## You may try normal initialization\n",
    "\n",
    "def init_hidden(layer):\n",
    "    input_size = layer.weight.data.size()[0]\n",
    "    lim = 1./np.sqrt(input_size)\n",
    "    return (-lim,lim)\n"
   ]
  },
  {
   "cell_type": "code",
   "execution_count": 11,
   "metadata": {},
   "outputs": [],
   "source": [
    "##Actor \n",
    "\n",
    "class Actor(nn.Module):\n",
    "    '''\n",
    "    Actor Model\n",
    "    '''\n",
    "    def __init__(self, state_size, action_size,hidden_size1=256,hidden_size2=128,seed =0 ):\n",
    "        \"\"\"\n",
    "        Initialize parameters and build model\n",
    "        \"\"\"\n",
    "        super(Actor, self).__init__()\n",
    "        self.seed =torch.manual_seed(seed)\n",
    "        self.state_size = state_size\n",
    "        self.action_size = action_size\n",
    "        self.hidden_size1 = hidden_size1\n",
    "        self.hidden_size2 = hidden_size2\n",
    "        \n",
    "        self.FC1 = nn.Linear(self.state_size, self.hidden_size1)\n",
    "        self.FC2 = nn.Linear(self.hidden_size1, self.hidden_size2)\n",
    "        self.FC3 = nn.Linear(self.hidden_size2, self.action_size)\n",
    "        self.reset_parameters()\n",
    "        \n",
    "    def forward(self, state):\n",
    "        \n",
    "        x =  F.relu(self.FC1(state))\n",
    "        x =  F.relu(self.FC2(x))\n",
    "        x =  torch.tanh(self.FC3(x))\n",
    "        \n",
    "        return x\n",
    "    \n",
    "    def reset_parameters(self):\n",
    "        self.FC1.weight.data.uniform_(*init_hidden(self.FC1))\n",
    "        self.FC2.weight.data.uniform_(*init_hidden(self.FC2))\n",
    "        self.FC3.weight.data.uniform_(-3e-3,3e-3)\n",
    "    "
   ]
  },
  {
   "cell_type": "code",
   "execution_count": 12,
   "metadata": {},
   "outputs": [],
   "source": [
    "##Critic\n",
    "\n",
    "class Critic(nn.Module):\n",
    "    '''\n",
    "    Actor Model\n",
    "    '''\n",
    "    def __init__(self, state_size, action_size,hidden_size1=256,hidden_size2=128,seed =0 ):\n",
    "        \"\"\"\n",
    "        Initialize parameters and build model\n",
    "        \"\"\"\n",
    "        super(Critic, self).__init__()\n",
    "        self.seed =torch.manual_seed(seed)\n",
    "        self.state_size = state_size\n",
    "        self.action_size = action_size\n",
    "        self.hidden_size1 = hidden_size1\n",
    "        self.hidden_size2 = hidden_size2\n",
    "        \n",
    "        self.FC1 = nn.Linear(self.state_size, self.hidden_size1)\n",
    "        self.FC2 = nn.Linear(self.hidden_size1+ self.action_size, self.hidden_size2)\n",
    "        self.FC3 = nn.Linear(self.hidden_size2, 1)\n",
    "        self.reset_parameters()\n",
    "        \n",
    "    def forward(self, state,action):\n",
    "        \n",
    "        xs =  F.relu(self.FC1(state))\n",
    "        x  =  torch.cat((xs, action),dim=1)\n",
    "        x =  F.relu(self.FC2(x))\n",
    "        x =  self.FC3(x)\n",
    "        \n",
    "        return x\n",
    "    \n",
    "    def reset_parameters(self):\n",
    "        self.FC1.weight.data.uniform_(*init_hidden(self.FC1))\n",
    "        self.FC2.weight.data.uniform_(*init_hidden(self.FC2))\n",
    "        self.FC3.weight.data.uniform_(-3e-3,3e-3)"
   ]
  },
  {
   "cell_type": "code",
   "execution_count": 13,
   "metadata": {},
   "outputs": [],
   "source": [
    "class ReplayBuffer:\n",
    "    \"\"\"Fixed-size buffer to store experience tuples.\"\"\"\n",
    "    \n",
    "\n",
    "    def __init__(self, action_size, buffer_size, batch_size, seed=0):\n",
    "        \"\"\"Initialize a ReplayBuffer object.\n",
    "        Params\n",
    "        ======\n",
    "            buffer_size (int): maximum size of buffer\n",
    "            batch_size (int): size of each training batch\n",
    "        \"\"\"\n",
    "        self.count = 0\n",
    "        self.action_size = action_size\n",
    "        self.memory = deque(maxlen=buffer_size)  # internal memory (deque)\n",
    "        self.batch_size = batch_size\n",
    "        ##self.experience = namedtuple(\"Experience\", field_names=[\"state\", \"action\", \"reward\", \"next_state\", \"done\"])\n",
    "        self.experiences = namedtuple(\"Experience\", field_names = [\"state\", \"action\", \"reward\", \"next_state\", \"done\"])\n",
    "        self.seed = random.seed(seed)\n",
    "    \n",
    "    def add(self, state, action, reward, next_state, done):\n",
    "        \"\"\"Add a new experience to memory.\"\"\"\n",
    "        e = self.experiences(state, action, reward, next_state, done)\n",
    "        self.memory.append(e)\n",
    "        ##self.count +=1\n",
    "        #print(self.count)\n",
    "    \n",
    "    def sample(self):\n",
    "        \"\"\"Randomly sample a batch of experiences from memory.\"\"\"\n",
    "        experiences = random.sample(self.memory, k=self.batch_size)\n",
    "\n",
    "        states = torch.from_numpy(np.vstack([e.state for e in experiences if e is not None])).float().to(device)\n",
    "        actions = torch.from_numpy(np.vstack([e.action for e in experiences if e is not None])).float().to(device)\n",
    "        rewards = torch.from_numpy(np.vstack([e.reward for e in experiences if e is not None])).float().to(device)\n",
    "        next_states = torch.from_numpy(np.vstack([e.next_state for e in experiences if e is not None])).float().to(device)\n",
    "        dones = torch.from_numpy(np.vstack([e.done for e in experiences if e is not None]).astype(np.uint8)).float().to(device)\n",
    "\n",
    "        return (states, actions, rewards, next_states, dones)\n",
    "\n",
    "    def __len__(self):\n",
    "        \"\"\"Return the current size of internal memory.\"\"\"\n",
    "        return len(self.memory)"
   ]
  },
  {
   "cell_type": "code",
   "execution_count": 14,
   "metadata": {},
   "outputs": [],
   "source": [
    "class OUNoise:\n",
    "    \"\"\"Ornstein-Uhlenbeck process.\"\"\"\n",
    "\n",
    "    def __init__(self, size, seed, mu=0., theta=0.15, sigma=0.2):\n",
    "        \"\"\"Initialize parameters and noise process.\"\"\"\n",
    "        self.mu = mu * np.ones(size)\n",
    "        self.theta = theta\n",
    "        self.sigma = sigma\n",
    "        self.size = size\n",
    "        self.seed = random.seed(seed)\n",
    "        self.reset()\n",
    "\n",
    "    def reset(self):\n",
    "        \"\"\"Reset the internal state (= noise) to mean (mu).\"\"\"\n",
    "        self.state = copy.copy(self.mu)\n",
    "\n",
    "    def sample(self):\n",
    "        \"\"\"Update internal state and return it as a noise sample.\"\"\"\n",
    "        x = self.state\n",
    "        ##dx = self.theta * (self.mu - x) + self.sigma * np.array([random.random() for i in range(len(x))])\n",
    "        dx = self.theta * (self.mu - x) + self.sigma *np.random.standard_normal(self.size)\n",
    "        self.state = x + dx\n",
    "        ##return self.state Kaustav\n",
    "        ##return torch.tensor(self.state).float().to(device)\n",
    "        return self.state"
   ]
  },
  {
   "cell_type": "code",
   "execution_count": 23,
   "metadata": {},
   "outputs": [],
   "source": [
    "class Agent():\n",
    "    \"\"\"\n",
    "    Interacts with and learns from the environment.\n",
    "    \"\"\"\n",
    "    \n",
    "    def __init__(self,state_size, action_size, n_agents,random_seed=0):\n",
    "        '''\n",
    "        Initialize parms\n",
    "        '''\n",
    "        self.state_size = state_size\n",
    "        self.action_size = action_size\n",
    "        self.n_agents = n_agents\n",
    "        self.seed = random_seed\n",
    "        self.actor_loss = []\n",
    "        self.critic_loss =[]\n",
    "        ## Actor Network\n",
    "        self.actor_local = Actor(self.state_size, self.action_size,seed=self.seed).to(device)\n",
    "        self.actor_target = Actor(self.state_size, self.action_size,seed=self.seed).to(device)\n",
    "        self.actor_optimizer = optim.Adam(self.actor_local.parameters(), lr = LR_ACTOR)\n",
    "        \n",
    "        ## Actor Network\n",
    "        self.critic_local = Critic(self.state_size, self.action_size,seed=self.seed).to(device)\n",
    "        self.critic_target = Critic(self.state_size, self.action_size,seed=self.seed).to(device)\n",
    "        self.critic_optimizer = optim.Adam(self.critic_local.parameters(), lr = LR_CRITIC,weight_decay=WEIGHT_DECAY)        \n",
    "        \n",
    "        # Noise process\n",
    "        self.noise = OUNoise((self.n_agents,action_size), random_seed)\n",
    "        \n",
    "        self.memory = ReplayBuffer(action_size,BUFFER_SIZE, BATCH_SIZE)\n",
    "    \n",
    "    def act(self, state, add_noise = True):\n",
    "        \n",
    "        state = torch.from_numpy(state).float().to(device)\n",
    "\n",
    "        self.actor_local.eval()\n",
    "        with torch.no_grad():\n",
    "            action = self.actor_local(state).cpu().data.numpy()\n",
    "        \n",
    "        self.actor_local.train()\n",
    "        \n",
    "        if add_noise:\n",
    "            #print(action.dtype)\n",
    "            #print(self.noise.sample().dtype)\n",
    "            #action += self.noise.sample().float().to(device)\n",
    "            action += self.noise.sample()\n",
    "        #if device == 'cpu':\n",
    "         #   return torch.clamp(action,-1,1)\n",
    "        #else:\n",
    "        #    return np.clip(action,-1,1)\n",
    "        ##return torch.clamp(action,-1,1)\n",
    "        return np.clip(action,-1,1)\n",
    "    \n",
    "    def reset(self):\n",
    "        self.noise.reset()\n",
    "        \n",
    "    def step(self,state, action, rewards , next_state , done):\n",
    "        ## The below line works for 1 agent \n",
    "        ##self.memory.add(state, action, rewards, next_state, done)\n",
    "        ## for multi agent\n",
    "        \n",
    "        for i in range(self.n_agents):\n",
    "            self.memory.add(state[i,:], action[i,:], rewards[i], next_state[i,:], done[i])\n",
    "\n",
    "        if len(self.memory) > BATCH_SIZE:\n",
    "            experiences = self.memory.sample()\n",
    "            \n",
    "\n",
    "            self.learn(experiences,GAMMA)\n",
    "    \n",
    "    def learn(self,experiences,gamma):\n",
    "        \n",
    "        state, action, rewards, next_state, done = experiences\n",
    "        # ---------------------------- update critic ---------------------------- #\n",
    "        # Get predicted next-state actions and Q values from target models\n",
    "        next_action = self.actor_target(next_state)\n",
    "        \n",
    "        q_target_next = self.critic_target(next_state, next_action)\n",
    "        # Compute Q targets for current states\n",
    "        q_target = rewards + gamma*q_target_next*(1- done)\n",
    "        \n",
    "        #Current Q value \n",
    "        q_current = self.critic_local(state, action)\n",
    "        ##TD Critic Loss\n",
    "        critic_loss = F.mse_loss(q_current,q_target)\n",
    "        # Minimize the loss\n",
    "        self.critic_optimizer.zero_grad()\n",
    "        critic_loss.backward()\n",
    "        self.critic_optimizer.step()\n",
    "        \n",
    "        self.critic_loss.append(critic_loss.item())\n",
    "        \n",
    "        \n",
    "        # ---------------------------- update actor ---------------------------- #\n",
    "        # Compute actor loss\n",
    "        action_pred = self.actor_local(state)\n",
    "        actor_loss = -self.critic_local(state, action_pred).mean()\n",
    "        self.actor_optimizer.zero_grad()\n",
    "        actor_loss.backward()\n",
    "        self.actor_optimizer.step()\n",
    "        \n",
    "        # Compute actor loss\n",
    "        #actions_pred = self.actor_local(state)\n",
    "        #actor_loss = -self.critic_local(state, actions_pred).mean()\n",
    "        # Minimize the loss\n",
    "        #self.actor_optimizer.zero_grad()\n",
    "        #actor_loss.backward()\n",
    "        #self.actor_optimizer.step()\n",
    "        \n",
    "        self.actor_loss.append(actor_loss.item())\n",
    "        \n",
    "        #print('Actor Loss:',actor_loss.item(), 'Critic Loss',critic_loss.item() )\n",
    "    \n",
    "        # ----------------------- update target networks ----------------------- #\n",
    "        self.soft_update(self.critic_local, self.critic_target, TAU)\n",
    "        self.soft_update(self.actor_local, self.actor_target, TAU)       \n",
    "\n",
    "    \n",
    "    def soft_update(self, local_model, target_model, tau=TAU):\n",
    "        \"\"\"Soft update model parameters.\n",
    "        θ_target = τ*θ_local + (1 - τ)*θ_target\n",
    "        Params\n",
    "        ======\n",
    "            local_model: PyTorch model (weights will be copied from)\n",
    "            target_model: PyTorch model (weights will be copied to)\n",
    "            tau (float): interpolation parameter \n",
    "        \"\"\"\n",
    "        for target_param, local_param in zip(target_model.parameters(), local_model.parameters()):\n",
    "            target_param.data.copy_(tau*local_param.data + (1.0-tau)*target_param.data)\n",
    "        \n",
    "        \n",
    "        \n",
    "        "
   ]
  },
  {
   "cell_type": "code",
   "execution_count": 26,
   "metadata": {},
   "outputs": [
    {
     "name": "stdout",
     "output_type": "stream",
     "text": [
      "Actor(\n",
      "  (FC1): Linear(in_features=33, out_features=256, bias=True)\n",
      "  (FC2): Linear(in_features=256, out_features=128, bias=True)\n",
      "  (FC3): Linear(in_features=128, out_features=4, bias=True)\n",
      ")\n",
      "Critic(\n",
      "  (FC1): Linear(in_features=33, out_features=256, bias=True)\n",
      "  (FC2): Linear(in_features=260, out_features=128, bias=True)\n",
      "  (FC3): Linear(in_features=128, out_features=1, bias=True)\n",
      ")\n"
     ]
    }
   ],
   "source": [
    "# size of each action\n",
    "input_action_size = brain.vector_action_space_size\n",
    "# examine the state space \n",
    "states = env_info.vector_observations\n",
    "input_state_size = states.shape[1]\n",
    "\n",
    "# number of agents\n",
    "n_agents = len(env_info.agents)\n",
    "agent = Agent(input_state_size,input_action_size,n_agents)\n",
    "\n",
    "\n",
    "print(agent.actor_local)\n",
    "print(agent.critic_local)"
   ]
  },
  {
   "cell_type": "markdown",
   "metadata": {},
   "source": [
    "### Learning Algorithm"
   ]
  },
  {
   "cell_type": "markdown",
   "metadata": {},
   "source": [
    "Deep Deterministic Policy Gradient (DDPG) is an algorithm which concurrently learns a Q-function and a policy. The actor NN learns the policy here to provide us the action. The critic NN learn the Q values to let us the reward for taking the action.It can learn policies in high-dimensional, continuous action spaces.It makes use of Replay buffer so that we dont throw away the (State, action, rewards,nextState) tuple after learning from it once. SO we store them in a Deque and once the Deque size is >= Batch Size , we start sampling frm the Deque to start learning from it. It also uses target NN( to make advantage of Fixed Q Targets). The target network is a clone of the policy network. Its weights are frozen with the original policy network’s weights, and we update the weights in the target network. Here the target network is updated once per main network update by polyak averaging( TAU x current NN + (1-TAU) x TARGET NN).\n",
    "\n",
    "The robot arm has different magnitude and direction as actions. So we cannot used random sampling, else the direction action would have a mean of 0, leading to not much learning.So we used Ornstein-Uhlenbeck process. This process add a small amount of random noise to the action at each timestep.This noise is correlated to the previous noise, and hence tends to be in the same direction for longer durations which leads to higher score.\n",
    "\n",
    "The hyperparameters: \n",
    "- Learning Rate: 1e-4 (in both DNN)   - Batch Size: 128   - Replay Buffer: 1e5   - Gamma: 0.99   - Tau: 1e-3   - Ornstein-Uhlenbeck noise parameters (0.15 theta and 0.2 sigma.)  - For the neural models:       - Actor         - Hidden: (input, 256)  - ReLU     - Hidden: (256, 128)    - ReLU     - Output: (128, 4)      - TanH. The action output is clipped between -1 and 1.   - Critic     - Hidden: (input, 256)              - ReLU     - Hidden: (256 + action_size, 128)  - ReLU     - Output: (128, 1)  "
   ]
  },
  {
   "cell_type": "code",
   "execution_count": 47,
   "metadata": {
    "scrolled": true
   },
   "outputs": [
    {
     "name": "stdout",
     "output_type": "stream",
     "text": [
      "Actor Loaded \tCritic Loaded\n",
      "Episode: \t102 \tScore: \t36.11 \tAverage Score: \t30.12\n",
      "Environment solved in Episode: \t102 \tAverage Score: 30.12"
     ]
    }
   ],
   "source": [
    "import os\n",
    "\n",
    "n_episodes=3000; max_t=1000; print_every=100;n_agents= len(env_info.agents);\n",
    "scores_deque = deque(maxlen = 100)\n",
    "scores = []\n",
    "\n",
    "##Load the trained actor and critic to continue training\n",
    "if os.path.exists('./checkpoint_actor_20.pth'):\n",
    "    agent.actor_local.load_state_dict(torch.load( './checkpoint_actor_20.pth'))\n",
    "    print('Actor Loaded ', end =\"\")\n",
    "\n",
    "\n",
    "if os.path.exists('./checkpoint_critic_20.pth'):\n",
    "    agent.critic_local.load_state_dict(torch.load( './checkpoint_critic_20.pth'))\n",
    "    print('\\tCritic Loaded', end= '\\n')\n",
    "\n",
    "\n",
    "best_score = -np.inf\n",
    "\n",
    "for episode in range(1, n_episodes+1):\n",
    "\n",
    "    env_info = env.reset(train_mode = True)[brain_name]\n",
    "    state = env_info.vector_observations                  # get the current state (for each agent)\n",
    "    agent.reset()\n",
    "    score = np.zeros(n_agents)\n",
    "    ##print(episode)\n",
    "    \n",
    "    while True:\n",
    "        action = agent.act(state)\n",
    "        #print(action)\n",
    "        env_info = env.step(action)[brain_name]           # send all actions to tne environment\n",
    "        next_state = env_info.vector_observations         # get next state (for each agent)\n",
    "        rewards = env_info.rewards                        # get reward (for each agent)\n",
    "        done = env_info.local_done                        # see if episode finished\n",
    "\n",
    "        #print(episode)\n",
    "        #print(env_info.local_done)\n",
    "\n",
    "        agent.step(state, action, rewards, next_state, done)\n",
    "        #print(env_info.rewards)\n",
    "        score += rewards                          # update the score (for each agent)\n",
    "        state = next_state                                 # roll over states to next time step\n",
    "        if np.any( done ):\n",
    "            break\n",
    "\n",
    "    scores.append(np.mean(score))\n",
    "    scores_deque.append(np.mean(score))\n",
    "    print('\\rEpisode: \\t{} \\tScore: \\t{:.2f} \\tAverage Score: \\t{:.2f}'.format(episode, np.mean(score), \n",
    "                                                                                   np.mean(scores_deque)), end=\"\")  \n",
    "    #if (episode% print_every==0):\n",
    "    #    print('\\rEpisode: \\t{} \\tScore: \\t{:.2f} \\tAverage Score: \\t{:.2f}'.format(episode, np.mean(score), \n",
    "    #                                                                               np.mean(scores_deque)), end=\"\")  \n",
    "    \n",
    "    if np.mean(score) > best_score:\n",
    "        best_score= np.mean(score)\n",
    "        torch.save(agent.actor_local.state_dict(), 'checkpoint_actor_20.pth')\n",
    "        torch.save(agent.critic_local.state_dict(), 'checkpoint_critic_20.pth')\n",
    "    if (np.mean(scores_deque) >= 30):\n",
    "        print('\\nEnvironment solved in Episode: \\t{} \\tAverage Score: {:.2f}'.format(episode, np.mean(scores_deque)), end=\"\")\n",
    "        torch.save(agent.actor_local.state_dict(), 'checkpoint_actor_20.pth')\n",
    "        torch.save(agent.critic_local.state_dict(), 'checkpoint_critic_20.pth')\n",
    "        break\n",
    "    ##print(episode)\n",
    "    #print(count)\n"
   ]
  },
  {
   "cell_type": "code",
   "execution_count": 48,
   "metadata": {},
   "outputs": [],
   "source": [
    "#env.close()"
   ]
  },
  {
   "cell_type": "code",
   "execution_count": 49,
   "metadata": {},
   "outputs": [],
   "source": [
    "#print(len(agent.memory))"
   ]
  },
  {
   "cell_type": "code",
   "execution_count": 50,
   "metadata": {},
   "outputs": [
    {
     "name": "stdout",
     "output_type": "stream",
     "text": [
      "38.18749914644286\n"
     ]
    }
   ],
   "source": [
    "print(max(scores))"
   ]
  },
  {
   "cell_type": "code",
   "execution_count": 51,
   "metadata": {},
   "outputs": [
    {
     "data": {
      "text/plain": [
       "102"
      ]
     },
     "execution_count": 51,
     "metadata": {},
     "output_type": "execute_result"
    }
   ],
   "source": [
    "len(scores)"
   ]
  },
  {
   "cell_type": "code",
   "execution_count": 53,
   "metadata": {},
   "outputs": [
    {
     "data": {
      "image/png": "[encoded data removed]",
      "text/plain": [
       "<Figure size 432x288 with 1 Axes>"
      ]
     },
     "metadata": {
      "needs_background": "light"
     },
     "output_type": "display_data"
    }
   ],
   "source": [
    "import matplotlib.pyplot as plt\n",
    "\n",
    "fig = plt.figure()\n",
    "ax = fig.add_subplot(111)\n",
    "plt.plot(np.arange(1, len(scores)+1), scores)\n",
    "plt.ylabel('Score')\n",
    "plt.xlabel('Episode #')\n",
    "plt.title('Score achieved')\n",
    "plt.show()"
   ]
  },
  {
   "cell_type": "code",
   "execution_count": 54,
   "metadata": {},
   "outputs": [
    {
     "data": {
      "image/png": "[encoded data removed]",
      "text/plain": [
       "<Figure size 432x288 with 1 Axes>"
      ]
     },
     "metadata": {
      "needs_background": "light"
     },
     "output_type": "display_data"
    }
   ],
   "source": [
    "import matplotlib.pyplot as plt\n",
    "agent.actor_loss\n",
    "\n",
    "fig = plt.figure()\n",
    "ax = fig.add_subplot(111)\n",
    "plt.plot(np.arange(1, len(agent.actor_loss)+1), agent.actor_loss)\n",
    "plt.ylabel('Actor loss')\n",
    "plt.xlabel('Timeframe')\n",
    "plt.title('Actor Loss over Timeframe')\n",
    "plt.show()"
   ]
  },
  {
   "cell_type": "code",
   "execution_count": 55,
   "metadata": {},
   "outputs": [
    {
     "data": {
      "image/png": "[encoded data removed]",
      "text/plain": [
       "<Figure size 432x288 with 1 Axes>"
      ]
     },
     "metadata": {
      "needs_background": "light"
     },
     "output_type": "display_data"
    }
   ],
   "source": [
    "import matplotlib.pyplot as plt\n",
    "agent.actor_loss\n",
    "\n",
    "fig = plt.figure()\n",
    "ax = fig.add_subplot(111)\n",
    "plt.plot(np.arange(1, len(agent.critic_loss)+1), agent.critic_loss)\n",
    "plt.ylabel('Critic loss')\n",
    "plt.xlabel('Timeframe')\n",
    "plt.title('Critic Loss over Timeframe')\n",
    "#plt.xlim(100, 17500)\n",
    "plt.show()\n"
   ]
  },
  {
   "cell_type": "code",
   "execution_count": 57,
   "metadata": {},
   "outputs": [
    {
     "name": "stdout",
     "output_type": "stream",
     "text": [
      "Episode: \t0 \tScore: \t39.12\n",
      "Episode: \t1 \tScore: \t39.07\n",
      "Episode: \t2 \tScore: \t38.52\n"
     ]
    }
   ],
   "source": [
    "# test the trained agent\n",
    "agent = Agent(input_state_size,input_action_size,n_agents)\n",
    "agent.actor_local.load_state_dict(torch.load( './checkpoint_actor_20.pth'))\n",
    "agent.critic_local.load_state_dict(torch.load( './checkpoint_critic_20.pth'))\n",
    "\n",
    "for episode in range(3):\n",
    "    env_info = env.reset(train_mode=False)[brain_name]        \n",
    "    state = env_info.vector_observations       \n",
    "    score = np.zeros(n_agents)               \n",
    "    \n",
    "    while True:\n",
    "        action = agent.act(state, add_noise=False)                    \n",
    "        \n",
    "        env_info = env.step(action)[brain_name]        \n",
    "        next_state = env_info.vector_observations     \n",
    "        rewards = env_info.rewards       \n",
    "        dones = env_info.local_done\n",
    "        score += rewards\n",
    "        state = next_state\n",
    "\n",
    "        if np.any(dones):                              \n",
    "            break\n",
    "\n",
    "    print('Episode: \\t{} \\tScore: \\t{:.2f}'.format(episode, np.mean(score)))      "
   ]
  },
  {
   "cell_type": "markdown",
   "metadata": {},
   "source": [
    "## Future Ideas"
   ]
  },
  {
   "cell_type": "markdown",
   "metadata": {},
   "source": [
    "I stil want to check this task with the A2C , D4PG algorithm and discover when and where each of the algorithms (DDPG vs. D4PG) have the best performance. I also want to check if using Advantage Critic benefits this task. I want to explore I want to try with experienced replay. We may learn more from rare but important events in that case.I think we may also try N-Step boostrapping instead 1 step for bias-variance tradeoff. I think the reward calculation using GAE may also benefit."
   ]
  },
  {
   "cell_type": "code",
   "execution_count": null,
   "metadata": {},
   "outputs": [],
   "source": []
  }
 ],
 "metadata": {
  "kernelspec": {
   "display_name": "Python 3",
   "language": "python",
   "name": "python3"
  },
  "language_info": {
   "codemirror_mode": {
    "name": "ipython",
    "version": 3
   },
   "file_extension": ".py",
   "mimetype": "text/x-python",
   "name": "python",
   "nbconvert_exporter": "python",
   "pygments_lexer": "ipython3",
   "version": "3.6.7"
  }
 },
 "nbformat": 4,
 "nbformat_minor": 2
}
